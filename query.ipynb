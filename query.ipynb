{
 "cells": [
  {
   "cell_type": "code",
   "execution_count": 3,
   "metadata": {},
   "outputs": [
    {
     "name": "stdout",
     "output_type": "stream",
     "text": [
      "Index created successfully.\n"
     ]
    }
   ],
   "source": [
    "# # create_index.py\n",
    "# import os\n",
    "# from whoosh.index import create_in\n",
    "# from whoosh.fields import Schema, TEXT\n",
    "\n",
    "# # Paths\n",
    "# output_directory = \"C:\\\\Users\\\\ananya\\\\Desktop\\\\doctor\\\\ouput\\\\final_structure\"\n",
    "# index_dir = \"C:\\\\Users\\\\ananya\\\\Desktop\\\\doctor\\\\ouput\\\\whoosh_index\"\n",
    "\n",
    "# # Define schema for indexing\n",
    "# schema = Schema(file_path=TEXT(stored=True), content=TEXT)\n",
    "\n",
    "# # Function to create an index\n",
    "# def create_index(folder_path, index_directory):\n",
    "#     # Create an index directory\n",
    "#     if not os.path.exists(index_directory):\n",
    "#         os.mkdir(index_directory)\n",
    "\n",
    "#     # Create an index\n",
    "#     ix = create_in(index_directory, schema)\n",
    "#     writer = ix.writer()\n",
    "    \n",
    "#     for root, dirs, files in os.walk(folder_path):\n",
    "#         for file in files:\n",
    "#             if file.endswith(\".txt\"):\n",
    "#                 file_path = os.path.join(root, file)\n",
    "#                 with open(file_path, 'r', encoding='utf-8') as f:\n",
    "#                     content = f.read()\n",
    "#                     writer.add_document(file_path=file_path, content=content)\n",
    "    \n",
    "#     writer.commit()\n",
    "#     print(\"Index created successfully.\")\n",
    "\n",
    "# # Run the index creation\n",
    "# if __name__ == \"__main__\":\n",
    "#     create_index(output_directory, index_dir)\n"
   ]
  },
  {
   "cell_type": "code",
   "execution_count": null,
   "metadata": {},
   "outputs": [],
   "source": [
    "# # search_disease.py\n",
    "# import os\n",
    "# from whoosh.index import open_dir\n",
    "# from whoosh.qparser import QueryParser\n",
    "\n",
    "# # Paths\n",
    "# index_dir = \"C:\\\\Users\\\\ananya\\\\Desktop\\\\doctor\\\\index\"\n",
    "\n",
    "# # Function to search for a disease using Whoosh\n",
    "# def search_disease_with_whoosh(disease_name, index_directory):\n",
    "#     ix = open_dir(index_directory)\n",
    "#     with ix.searcher() as searcher:\n",
    "#         query = QueryParser(\"content\", ix.schema).parse(disease_name)\n",
    "#         results = searcher.search(query)\n",
    "#         return [result['file_path'] for result in results]\n",
    "\n",
    "# # Example usage\n",
    "# if __name__ == \"__main__\":\n",
    "#     disease_to_search = input(\"Enter the disease to search for: \")\n",
    "#     result_files = search_disease_with_whoosh(disease_to_search, index_dir)\n",
    "\n",
    "#     if result_files:\n",
    "#         print(f\"Disease '{disease_to_search}' found in the following files:\")\n",
    "#         for file_path in result_files:\n",
    "#             print(f\"- {file_path}\")  # Print each file path on a new line with a bullet point\n",
    "#     else:\n",
    "#         print(f\"Disease '{disease_to_search}' not found in any file.\")\n"
   ]
  },
  {
   "cell_type": "code",
   "execution_count": null,
   "metadata": {},
   "outputs": [],
   "source": []
  },
  {
   "cell_type": "code",
   "execution_count": 1,
   "metadata": {},
   "outputs": [
    {
     "name": "stdout",
     "output_type": "stream",
     "text": [
      "Index created successfully.\n"
     ]
    }
   ],
   "source": [
    "# # create_index.py\n",
    "# import os\n",
    "# from whoosh.index import create_in\n",
    "# from whoosh.fields import Schema, TEXT, ID\n",
    "\n",
    "# # Paths\n",
    "# output_directory = \"C:\\\\Users\\\\ananya\\\\Desktop\\\\doctor\\\\ouput\\\\final_structure\"\n",
    "# index_dir = \"C:\\\\Users\\\\ananya\\\\Desktop\\\\doctor\\\\ouput\\\\whoosh_index\"\n",
    "\n",
    "# # Define schema for indexing\n",
    "# # Use 'ID' for 'file_path' since it's unique and should be stored\n",
    "# schema = Schema(file_path=ID(stored=True, unique=True), content=TEXT)\n",
    "\n",
    "# # Function to create an index\n",
    "# def create_index(folder_path, index_directory):\n",
    "#     # Create an index directory if it doesn't exist\n",
    "#     if not os.path.exists(index_directory):\n",
    "#         os.mkdir(index_directory)\n",
    "\n",
    "#     # Create an index\n",
    "#     ix = create_in(index_directory, schema)\n",
    "#     writer = ix.writer()\n",
    "    \n",
    "#     # Walk through the folder structure and index each .txt file\n",
    "#     for root, dirs, files in os.walk(folder_path):\n",
    "#         for file in files:\n",
    "#             if file.endswith(\".txt\"):\n",
    "#                 file_path = os.path.join(root, file)\n",
    "#                 with open(file_path, 'r', encoding='utf-8') as f:\n",
    "#                     content = f.read()\n",
    "#                     # Add the document to the index with file path and content\n",
    "#                     writer.add_document(file_path=file_path, content=content)\n",
    "    \n",
    "#     # Commit the writer to save the index\n",
    "#     writer.commit()\n",
    "#     print(\"Index created successfully.\")\n",
    "\n",
    "# # Run the index creation\n",
    "# if __name__ == \"__main__\":\n",
    "#     create_index(output_directory, index_dir)\n"
   ]
  },
  {
   "cell_type": "code",
   "execution_count": 1,
   "metadata": {},
   "outputs": [
    {
     "ename": "KeyboardInterrupt",
     "evalue": "",
     "output_type": "error",
     "traceback": [
      "\u001b[1;31m---------------------------------------------------------------------------\u001b[0m",
      "\u001b[1;31mKeyboardInterrupt\u001b[0m                         Traceback (most recent call last)",
      "Cell \u001b[1;32mIn[1], line 32\u001b[0m\n\u001b[0;32m     29\u001b[0m     writer\u001b[38;5;241m.\u001b[39mcommit()\n\u001b[0;32m     31\u001b[0m \u001b[38;5;66;03m# Index the folder containing the files \u001b[39;00m\n\u001b[1;32m---> 32\u001b[0m \u001b[43madd_files_to_index\u001b[49m\u001b[43m(\u001b[49m\u001b[43mix\u001b[49m\u001b[43m,\u001b[49m\u001b[43m \u001b[49m\u001b[38;5;124;43m\"\u001b[39;49m\u001b[38;5;124;43mC:\u001b[39;49m\u001b[38;5;130;43;01m\\\\\u001b[39;49;00m\u001b[38;5;124;43mUsers\u001b[39;49m\u001b[38;5;130;43;01m\\\\\u001b[39;49;00m\u001b[38;5;124;43mananya\u001b[39;49m\u001b[38;5;130;43;01m\\\\\u001b[39;49;00m\u001b[38;5;124;43mDesktop\u001b[39;49m\u001b[38;5;130;43;01m\\\\\u001b[39;49;00m\u001b[38;5;124;43mdoctor\u001b[39;49m\u001b[38;5;130;43;01m\\\\\u001b[39;49;00m\u001b[38;5;124;43mouput\u001b[39;49m\u001b[38;5;130;43;01m\\\\\u001b[39;49;00m\u001b[38;5;124;43mfinal_structure\u001b[39;49m\u001b[38;5;124;43m\"\u001b[39;49m\u001b[43m)\u001b[49m\n",
      "Cell \u001b[1;32mIn[1], line 27\u001b[0m, in \u001b[0;36madd_files_to_index\u001b[1;34m(ix, folder_path)\u001b[0m\n\u001b[0;32m     25\u001b[0m         \u001b[38;5;28;01mwith\u001b[39;00m \u001b[38;5;28mopen\u001b[39m(file_path, \u001b[38;5;124m\"\u001b[39m\u001b[38;5;124mr\u001b[39m\u001b[38;5;124m\"\u001b[39m, encoding\u001b[38;5;241m=\u001b[39m\u001b[38;5;124m\"\u001b[39m\u001b[38;5;124mutf-8\u001b[39m\u001b[38;5;124m\"\u001b[39m) \u001b[38;5;28;01mas\u001b[39;00m f:\n\u001b[0;32m     26\u001b[0m             content \u001b[38;5;241m=\u001b[39m f\u001b[38;5;241m.\u001b[39mread()\n\u001b[1;32m---> 27\u001b[0m             \u001b[43mwriter\u001b[49m\u001b[38;5;241;43m.\u001b[39;49m\u001b[43madd_document\u001b[49m\u001b[43m(\u001b[49m\u001b[43mpath\u001b[49m\u001b[38;5;241;43m=\u001b[39;49m\u001b[43mfile_path\u001b[49m\u001b[43m,\u001b[49m\u001b[43m \u001b[49m\u001b[43mcontent\u001b[49m\u001b[38;5;241;43m=\u001b[39;49m\u001b[43mcontent\u001b[49m\u001b[43m)\u001b[49m\n\u001b[0;32m     29\u001b[0m writer\u001b[38;5;241m.\u001b[39mcommit()\n",
      "File \u001b[1;32m~\\AppData\\Local\\Packages\\PythonSoftwareFoundation.Python.3.12_qbz5n2kfra8p0\\LocalCache\\local-packages\\Python312\\site-packages\\whoosh\\writing.py:786\u001b[0m, in \u001b[0;36mSegmentWriter.add_document\u001b[1;34m(self, **fields)\u001b[0m\n\u001b[0;32m    783\u001b[0m         cv \u001b[38;5;241m=\u001b[39m field\u001b[38;5;241m.\u001b[39mto_column_value(customval)\n\u001b[0;32m    784\u001b[0m         perdocwriter\u001b[38;5;241m.\u001b[39madd_column_value(fieldname, column, cv)\n\u001b[1;32m--> 786\u001b[0m \u001b[43mperdocwriter\u001b[49m\u001b[38;5;241;43m.\u001b[39;49m\u001b[43mfinish_doc\u001b[49m\u001b[43m(\u001b[49m\u001b[43m)\u001b[49m\n\u001b[0;32m    787\u001b[0m \u001b[38;5;28mself\u001b[39m\u001b[38;5;241m.\u001b[39m_added \u001b[38;5;241m=\u001b[39m \u001b[38;5;28;01mTrue\u001b[39;00m\n\u001b[0;32m    788\u001b[0m \u001b[38;5;28mself\u001b[39m\u001b[38;5;241m.\u001b[39mdocnum \u001b[38;5;241m+\u001b[39m\u001b[38;5;241m=\u001b[39m \u001b[38;5;241m1\u001b[39m\n",
      "File \u001b[1;32m~\\AppData\\Local\\Packages\\PythonSoftwareFoundation.Python.3.12_qbz5n2kfra8p0\\LocalCache\\local-packages\\Python312\\site-packages\\whoosh\\codec\\whoosh3.py:250\u001b[0m, in \u001b[0;36mW3PerDocWriter.finish_doc\u001b[1;34m(self)\u001b[0m\n\u001b[0;32m    248\u001b[0m sf \u001b[38;5;241m=\u001b[39m \u001b[38;5;28mself\u001b[39m\u001b[38;5;241m.\u001b[39m_storedfields\n\u001b[0;32m    249\u001b[0m \u001b[38;5;28;01mif\u001b[39;00m sf:\n\u001b[1;32m--> 250\u001b[0m     \u001b[38;5;28;43mself\u001b[39;49m\u001b[38;5;241;43m.\u001b[39;49m\u001b[43madd_column_value\u001b[49m\u001b[43m(\u001b[49m\u001b[38;5;124;43m\"\u001b[39;49m\u001b[38;5;124;43m_stored\u001b[39;49m\u001b[38;5;124;43m\"\u001b[39;49m\u001b[43m,\u001b[49m\u001b[43m \u001b[49m\u001b[43mSTORED_COLUMN\u001b[49m\u001b[43m,\u001b[49m\u001b[43m \u001b[49m\u001b[43msf\u001b[49m\u001b[43m)\u001b[49m\n\u001b[0;32m    251\u001b[0m     sf\u001b[38;5;241m.\u001b[39mclear()\n\u001b[0;32m    252\u001b[0m \u001b[38;5;28mself\u001b[39m\u001b[38;5;241m.\u001b[39m_indoc \u001b[38;5;241m=\u001b[39m \u001b[38;5;28;01mFalse\u001b[39;00m\n",
      "File \u001b[1;32m~\\AppData\\Local\\Packages\\PythonSoftwareFoundation.Python.3.12_qbz5n2kfra8p0\\LocalCache\\local-packages\\Python312\\site-packages\\whoosh\\codec\\base.py:821\u001b[0m, in \u001b[0;36mPerDocWriterWithColumns.add_column_value\u001b[1;34m(self, fieldname, column, value)\u001b[0m\n\u001b[0;32m    819\u001b[0m \u001b[38;5;28;01mif\u001b[39;00m \u001b[38;5;129;01mnot\u001b[39;00m \u001b[38;5;28mself\u001b[39m\u001b[38;5;241m.\u001b[39m_has_column(fieldname):\n\u001b[0;32m    820\u001b[0m     \u001b[38;5;28mself\u001b[39m\u001b[38;5;241m.\u001b[39m_create_column(fieldname, column)\n\u001b[1;32m--> 821\u001b[0m \u001b[38;5;28;43mself\u001b[39;49m\u001b[38;5;241;43m.\u001b[39;49m\u001b[43m_get_column\u001b[49m\u001b[43m(\u001b[49m\u001b[43mfieldname\u001b[49m\u001b[43m)\u001b[49m\u001b[38;5;241;43m.\u001b[39;49m\u001b[43madd\u001b[49m\u001b[43m(\u001b[49m\u001b[38;5;28;43mself\u001b[39;49m\u001b[38;5;241;43m.\u001b[39;49m\u001b[43m_docnum\u001b[49m\u001b[43m,\u001b[49m\u001b[43m \u001b[49m\u001b[43mvalue\u001b[49m\u001b[43m)\u001b[49m\n",
      "File \u001b[1;32m~\\AppData\\Local\\Packages\\PythonSoftwareFoundation.Python.3.12_qbz5n2kfra8p0\\LocalCache\\local-packages\\Python312\\site-packages\\whoosh\\columns.py:1265\u001b[0m, in \u001b[0;36mPickleColumn.Writer.add\u001b[1;34m(self, docnum, v)\u001b[0m\n\u001b[0;32m   1263\u001b[0m \u001b[38;5;28;01melse\u001b[39;00m:\n\u001b[0;32m   1264\u001b[0m     v \u001b[38;5;241m=\u001b[39m dumps(v, \u001b[38;5;241m2\u001b[39m)\n\u001b[1;32m-> 1265\u001b[0m \u001b[38;5;28;43mself\u001b[39;49m\u001b[38;5;241;43m.\u001b[39;49m\u001b[43m_child\u001b[49m\u001b[38;5;241;43m.\u001b[39;49m\u001b[43madd\u001b[49m\u001b[43m(\u001b[49m\u001b[43mdocnum\u001b[49m\u001b[43m,\u001b[49m\u001b[43m \u001b[49m\u001b[43mv\u001b[49m\u001b[43m)\u001b[49m\n",
      "File \u001b[1;32m~\\AppData\\Local\\Packages\\PythonSoftwareFoundation.Python.3.12_qbz5n2kfra8p0\\LocalCache\\local-packages\\Python312\\site-packages\\whoosh\\columns.py:854\u001b[0m, in \u001b[0;36mCompressedBytesColumn.Writer.add\u001b[1;34m(self, docnum, v)\u001b[0m\n\u001b[0;32m    853\u001b[0m \u001b[38;5;28;01mdef\u001b[39;00m \u001b[38;5;21madd\u001b[39m(\u001b[38;5;28mself\u001b[39m, docnum, v):\n\u001b[1;32m--> 854\u001b[0m     v \u001b[38;5;241m=\u001b[39m \u001b[38;5;28;43mself\u001b[39;49m\u001b[38;5;241;43m.\u001b[39;49m\u001b[43m_compress\u001b[49m\u001b[43m(\u001b[49m\u001b[43mv\u001b[49m\u001b[43m,\u001b[49m\u001b[43m \u001b[49m\u001b[38;5;28;43mself\u001b[39;49m\u001b[38;5;241;43m.\u001b[39;49m\u001b[43m_level\u001b[49m\u001b[43m)\u001b[49m\n\u001b[0;32m    855\u001b[0m     VarBytesColumn\u001b[38;5;241m.\u001b[39mWriter\u001b[38;5;241m.\u001b[39madd(\u001b[38;5;28mself\u001b[39m, docnum, v)\n",
      "\u001b[1;31mKeyboardInterrupt\u001b[0m: "
     ]
    }
   ],
   "source": [
    "from whoosh.fields import Schema, TEXT, ID\n",
    "from whoosh.index import create_in\n",
    "import os\n",
    "\n",
    "# Define a schema including the 'path' field\n",
    "schema = Schema(path=ID(stored=True), content=TEXT(stored=True))\n",
    "\n",
    "# Directory where the index will be stored\n",
    "index_dir = \"C:\\\\Users\\\\ananya\\\\Desktop\\\\doctor\\\\ouput\\\\index\"\n",
    "\n",
    "# Create the index directory if it doesn't exist\n",
    "if not os.path.exists(index_dir):\n",
    "    os.mkdir(index_dir)\n",
    "\n",
    "# Create the index\n",
    "ix = create_in(index_dir, schema)\n",
    "\n",
    "# Sample indexing of files\n",
    "def add_files_to_index(ix, folder_path):\n",
    "    writer = ix.writer()\n",
    "    \n",
    "    for root, dirs, files in os.walk(folder_path):\n",
    "        for filename in files:\n",
    "            file_path = os.path.join(root, filename)\n",
    "            with open(file_path, \"r\", encoding=\"utf-8\") as f:\n",
    "                content = f.read()\n",
    "                writer.add_document(path=file_path, content=content)\n",
    "    \n",
    "    writer.commit()\n",
    "\n",
    "# Index the folder containing the files \n",
    "add_files_to_index(ix, \"C:\\\\Users\\\\ananya\\\\Desktop\\\\doctor\\\\ouput\\\\final_structure\")\n"
   ]
  },
  {
   "cell_type": "code",
   "execution_count": 3,
   "metadata": {},
   "outputs": [
    {
     "name": "stdout",
     "output_type": "stream",
     "text": [
      "Disease 'asthma' found in the following files:\n",
      "- C:\\Users\\ananya\\Desktop\\doctor\\ouput\\final_structure\\System_Specific_and_Related_Disorders\\Respiratory_System_Disorders\\chapter_283.txt\n",
      "- C:\\Users\\ananya\\Desktop\\doctor\\ouput\\final_structure\\System_Specific_and_Related_Disorders\\Respiratory_System_Disorders\\chapter_284.txt\n",
      "- C:\\Users\\ananya\\Desktop\\doctor\\ouput\\final_structure\\Symptom-Based (13-64)\\Respiratory and Cardiovascular Symptoms\\chapter_038.txt\n",
      "- C:\\Users\\ananya\\Desktop\\doctor\\ouput\\final_structure\\System_Specific_and_Related_Disorders\\Respiratory_System_Disorders\\chapter_281.txt\n",
      "- C:\\Users\\ananya\\Desktop\\doctor\\ouput\\final_structure\\System_Specific_and_Related_Disorders\\Respiratory_System_Disorders\\chapter_285.txt\n",
      "- C:\\Users\\ananya\\Desktop\\doctor\\ouput\\final_structure\\System_Specific_and_Related_Disorders\\Immune_System_and_Rheumatologic_Disorders\\chapter_348.txt\n",
      "- C:\\Users\\ananya\\Desktop\\doctor\\ouput\\final_structure\\Symptom-Based (13-64)\\Respiratory and Cardiovascular Symptoms\\chapter_037.txt\n",
      "- C:\\Users\\ananya\\Desktop\\doctor\\ouput\\final_structure\\System_Specific_and_Related_Disorders\\Respiratory_System_Disorders\\chapter_295.txt\n",
      "- C:\\Users\\ananya\\Desktop\\doctor\\ouput\\final_structure\\Infectious Diseases (117-232)\\Fungal Infections\\chapter_215.txt\n",
      "- C:\\Users\\ananya\\Desktop\\doctor\\ouput\\final_structure\\System_Specific_and_Related_Disorders\\Respiratory_System_Disorders\\chapter_288.txt\n"
     ]
    }
   ],
   "source": [
    "import os\n",
    "from whoosh.index import open_dir\n",
    "from whoosh.qparser import QueryParser\n",
    "\n",
    "# Paths\n",
    "index_dir = \"index\"\n",
    "\n",
    "# Function to search for a disease using Whoosh\n",
    "def search_disease_with_whoosh(disease_name, index_directory):\n",
    "    ix = open_dir(index_directory)\n",
    "    with ix.searcher() as searcher:\n",
    "        query = QueryParser(\"content\", ix.schema).parse(disease_name)\n",
    "        results = searcher.search(query)\n",
    "        return [result['path'] for result in results]  # Use 'path' here instead of 'file_path'\n",
    "\n",
    "# Example usage\n",
    "if __name__ == \"__main__\":\n",
    "    disease_to_search = input(\"Enter the disease to search for: \")\n",
    "    result_files = search_disease_with_whoosh(disease_to_search, index_dir)\n",
    "\n",
    "    if result_files:\n",
    "        print(f\"Disease '{disease_to_search}' found in the following files:\")\n",
    "        for file_path in result_files:\n",
    "            print(f\"- {file_path}\")  # Print each file path on a new line with a bullet point\n",
    "    else:\n",
    "        print(f\"Disease '{disease_to_search}' not found in any file.\")\n"
   ]
  }
 ],
 "metadata": {
  "kernelspec": {
   "display_name": "Python 3",
   "language": "python",
   "name": "python3"
  },
  "language_info": {
   "codemirror_mode": {
    "name": "ipython",
    "version": 3
   },
   "file_extension": ".py",
   "mimetype": "text/x-python",
   "name": "python",
   "nbconvert_exporter": "python",
   "pygments_lexer": "ipython3",
   "version": "3.12.7"
  }
 },
 "nbformat": 4,
 "nbformat_minor": 2
}
